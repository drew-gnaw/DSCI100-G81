{
 "cells": [
  {
   "cell_type": "markdown",
   "id": "3f4b1dff-8f7b-40fc-aed3-600528776192",
   "metadata": {},
   "source": [
    "# Investigation Into the Most Significant Indicators of Heart Disease "
   ]
  },
  {
   "cell_type": "markdown",
   "id": "2807992a-8e81-444d-9cc6-f66ae032d845",
   "metadata": {},
   "source": [
    "Baiya Griffiths - 26409599\\\n",
    "Grace Li - 62540075\\\n",
    "Andrew Wang - 91790451\\\n",
    "Zhaolan Wang - 70239009"
   ]
  },
  {
   "cell_type": "markdown",
   "id": "94ac7718-f001-4999-8185-9ceed56d3403",
   "metadata": {},
   "source": [
    "In this project we are looking at Coronary artery disease, a common heart disease where the major blood vessels are clogged or narrowed. Due to the blockage it is difficult to transfer oxygen, blood and nutrients to the heart. Usually this disease can be attributed to cholesterol deposits, so the level of cholesterol in potential victims is of interest to us. The symptoms of coronary artery disease are often reflected in the type of chest pain, resting blood pressure, max heart rate and so on."
   ]
  },
  {
   "cell_type": "markdown",
   "id": "fb4a5aac-f5e2-44bd-aeec-ae39e7d9d43e",
   "metadata": {},
   "source": [
    "Question: Based on a limited set of test data, is a person at risk for coronary heart disease?\n",
    "We will aim to identify an easily attainable set of variables that lead to an accurate prediction of heart disease. This could be used as an initial screening to determine risk of heart disease and prioritise additional testing to people at higher risk. We are going to take the data with different variables to train, test, and find the accuracy to determine which set of variables can be used for effective screening. "
   ]
  },
  {
   "cell_type": "markdown",
   "id": "04d32ce4-e245-41db-a2c2-474c60ac0c69",
   "metadata": {},
   "source": [
    "The dataset we chose was the one about heart disease. The database for heart disease contains 76 attributes (variables), but the dataset we are using includes only 14 of them. In our project, we will focus on determining the presence or absence of heart disease, so the data in the disease column has only two categories, 0 (no heart disease) and 1 (with heart disease). Also, this database has four regional datasets, and we finally chose the Hungarian regional. "
   ]
  },
  {
   "cell_type": "code",
   "execution_count": 1,
   "id": "d5a392ac-9a9d-4e47-9186-1a84a2b5d3c2",
   "metadata": {},
   "outputs": [
    {
     "name": "stderr",
     "output_type": "stream",
     "text": [
      "── \u001b[1mAttaching packages\u001b[22m ─────────────────────────────────────── tidyverse 1.3.1 ──\n",
      "\n",
      "\u001b[32m✔\u001b[39m \u001b[34mggplot2\u001b[39m 3.3.6     \u001b[32m✔\u001b[39m \u001b[34mpurrr  \u001b[39m 0.3.4\n",
      "\u001b[32m✔\u001b[39m \u001b[34mtibble \u001b[39m 3.1.7     \u001b[32m✔\u001b[39m \u001b[34mdplyr  \u001b[39m 1.0.9\n",
      "\u001b[32m✔\u001b[39m \u001b[34mtidyr  \u001b[39m 1.2.0     \u001b[32m✔\u001b[39m \u001b[34mstringr\u001b[39m 1.4.0\n",
      "\u001b[32m✔\u001b[39m \u001b[34mreadr  \u001b[39m 2.1.2     \u001b[32m✔\u001b[39m \u001b[34mforcats\u001b[39m 0.5.1\n",
      "\n",
      "── \u001b[1mConflicts\u001b[22m ────────────────────────────────────────── tidyverse_conflicts() ──\n",
      "\u001b[31m✖\u001b[39m \u001b[34mdplyr\u001b[39m::\u001b[32mfilter()\u001b[39m masks \u001b[34mstats\u001b[39m::filter()\n",
      "\u001b[31m✖\u001b[39m \u001b[34mdplyr\u001b[39m::\u001b[32mlag()\u001b[39m    masks \u001b[34mstats\u001b[39m::lag()\n",
      "\n",
      "── \u001b[1mAttaching packages\u001b[22m ────────────────────────────────────── tidymodels 1.0.0 ──\n",
      "\n",
      "\u001b[32m✔\u001b[39m \u001b[34mbroom       \u001b[39m 1.0.0     \u001b[32m✔\u001b[39m \u001b[34mrsample     \u001b[39m 1.0.0\n",
      "\u001b[32m✔\u001b[39m \u001b[34mdials       \u001b[39m 1.0.0     \u001b[32m✔\u001b[39m \u001b[34mtune        \u001b[39m 1.0.0\n",
      "\u001b[32m✔\u001b[39m \u001b[34minfer       \u001b[39m 1.0.2     \u001b[32m✔\u001b[39m \u001b[34mworkflows   \u001b[39m 1.0.0\n",
      "\u001b[32m✔\u001b[39m \u001b[34mmodeldata   \u001b[39m 1.0.0     \u001b[32m✔\u001b[39m \u001b[34mworkflowsets\u001b[39m 1.0.0\n",
      "\u001b[32m✔\u001b[39m \u001b[34mparsnip     \u001b[39m 1.0.0     \u001b[32m✔\u001b[39m \u001b[34myardstick   \u001b[39m 1.0.0\n",
      "\u001b[32m✔\u001b[39m \u001b[34mrecipes     \u001b[39m 1.0.1     \n",
      "\n",
      "── \u001b[1mConflicts\u001b[22m ───────────────────────────────────────── tidymodels_conflicts() ──\n",
      "\u001b[31m✖\u001b[39m \u001b[34mscales\u001b[39m::\u001b[32mdiscard()\u001b[39m masks \u001b[34mpurrr\u001b[39m::discard()\n",
      "\u001b[31m✖\u001b[39m \u001b[34mdplyr\u001b[39m::\u001b[32mfilter()\u001b[39m   masks \u001b[34mstats\u001b[39m::filter()\n",
      "\u001b[31m✖\u001b[39m \u001b[34mrecipes\u001b[39m::\u001b[32mfixed()\u001b[39m  masks \u001b[34mstringr\u001b[39m::fixed()\n",
      "\u001b[31m✖\u001b[39m \u001b[34mdplyr\u001b[39m::\u001b[32mlag()\u001b[39m      masks \u001b[34mstats\u001b[39m::lag()\n",
      "\u001b[31m✖\u001b[39m \u001b[34myardstick\u001b[39m::\u001b[32mspec()\u001b[39m masks \u001b[34mreadr\u001b[39m::spec()\n",
      "\u001b[31m✖\u001b[39m \u001b[34mrecipes\u001b[39m::\u001b[32mstep()\u001b[39m   masks \u001b[34mstats\u001b[39m::step()\n",
      "\u001b[34m•\u001b[39m Search for functions across packages at \u001b[32mhttps://www.tidymodels.org/find/\u001b[39m\n",
      "\n",
      "Loading required package: gridExtra\n",
      "\n",
      "\n",
      "Attaching package: ‘gridExtra’\n",
      "\n",
      "\n",
      "The following object is masked from ‘package:dplyr’:\n",
      "\n",
      "    combine\n",
      "\n",
      "\n"
     ]
    }
   ],
   "source": [
    "library(tidyverse)\n",
    "library(repr)\n",
    "options(repr.matrix.max.rows = 6)\n",
    "library(tidymodels)\n",
    "require(gridExtra)"
   ]
  },
  {
   "cell_type": "code",
   "execution_count": 2,
   "id": "c6e73ae2-35f2-4964-8a43-41f1206f8805",
   "metadata": {},
   "outputs": [
    {
     "name": "stderr",
     "output_type": "stream",
     "text": [
      "\u001b[1mRows: \u001b[22m\u001b[34m294\u001b[39m \u001b[1mColumns: \u001b[22m\u001b[34m14\u001b[39m\n",
      "\u001b[36m──\u001b[39m \u001b[1mColumn specification\u001b[22m \u001b[36m────────────────────────────────────────────────────────\u001b[39m\n",
      "\u001b[1mDelimiter:\u001b[22m \",\"\n",
      "\u001b[31mchr\u001b[39m (9): X4, X5, X6, X7, X8, X9, X11, X12, X13\n",
      "\u001b[32mdbl\u001b[39m (5): X1, X2, X3, X10, X14\n",
      "\n",
      "\u001b[36mℹ\u001b[39m Use `spec()` to retrieve the full column specification for this data.\n",
      "\u001b[36mℹ\u001b[39m Specify the column types or set `show_col_types = FALSE` to quiet this message.\n"
     ]
    }
   ],
   "source": [
    "#First step is to read the data and label the column names. \n",
    "heart_data <- read_delim(\"https://archive.ics.uci.edu/ml/machine-learning-databases/heart-disease/processed.hungarian.data\",col_name = FALSE)\n",
    "colnames(heart_data) <- c(\"age\", \"sex\", \"chest_pain\", \"resting_bp\", \"cholesterol\", \"fbs>120mg/dL\", \"restingecg\", \"max_heart_rate\", \"exercise_induced_angina\", \"oldpeak\", \"slope\", \"ca\", \"thal\", \"disease\")"
   ]
  },
  {
   "cell_type": "code",
   "execution_count": 3,
   "id": "cd3cde69-7c15-4db3-96b5-74bae31b5fac",
   "metadata": {},
   "outputs": [],
   "source": [
    "#Here we are tidying the data by filtering out columns with \"?\" and selecting which columns we want. \n",
    "heart_data_tidy <- heart_data |> select(chest_pain, resting_bp, cholesterol, restingecg, max_heart_rate, disease) |>\n",
    "                   filter(chest_pain!= \"?\", resting_bp!= \"?\", cholesterol!= \"?\", restingecg!= \"?\", max_heart_rate!= \"?\", disease!= \"?\") |>\n",
    "                   mutate(chest_pain = as.numeric(chest_pain), \n",
    "                          resting_bp = as.numeric(resting_bp),\n",
    "                          cholesterol = as.numeric(cholesterol),\n",
    "                          restingecg = as.numeric(restingecg),\n",
    "                          max_heart_rate = as.numeric(max_heart_rate),\n",
    "                          disease = as_factor(disease))"
   ]
  },
  {
   "cell_type": "code",
   "execution_count": 4,
   "id": "bfc93744-8dca-4ecb-b43e-eabd7a376a9c",
   "metadata": {},
   "outputs": [
    {
     "data": {
      "text/html": [
       "<table class=\"dataframe\">\n",
       "<caption>A tibble: 201 × 6</caption>\n",
       "<thead>\n",
       "\t<tr><th scope=col>chest_pain</th><th scope=col>resting_bp</th><th scope=col>cholesterol</th><th scope=col>restingecg</th><th scope=col>max_heart_rate</th><th scope=col>disease</th></tr>\n",
       "\t<tr><th scope=col>&lt;dbl&gt;</th><th scope=col>&lt;dbl&gt;</th><th scope=col>&lt;dbl&gt;</th><th scope=col>&lt;dbl&gt;</th><th scope=col>&lt;dbl&gt;</th><th scope=col>&lt;fct&gt;</th></tr>\n",
       "</thead>\n",
       "<tbody>\n",
       "\t<tr><td>2</td><td>130</td><td>132</td><td>2</td><td>185</td><td>0</td></tr>\n",
       "\t<tr><td>2</td><td>120</td><td>243</td><td>0</td><td>160</td><td>0</td></tr>\n",
       "\t<tr><td>1</td><td>170</td><td>237</td><td>1</td><td>170</td><td>0</td></tr>\n",
       "\t<tr><td>⋮</td><td>⋮</td><td>⋮</td><td>⋮</td><td>⋮</td><td>⋮</td></tr>\n",
       "\t<tr><td>4</td><td>160</td><td>331</td><td>0</td><td> 94</td><td>1</td></tr>\n",
       "\t<tr><td>3</td><td>130</td><td>294</td><td>1</td><td>100</td><td>1</td></tr>\n",
       "\t<tr><td>4</td><td>130</td><td>275</td><td>1</td><td>115</td><td>1</td></tr>\n",
       "</tbody>\n",
       "</table>\n"
      ],
      "text/latex": [
       "A tibble: 201 × 6\n",
       "\\begin{tabular}{llllll}\n",
       " chest\\_pain & resting\\_bp & cholesterol & restingecg & max\\_heart\\_rate & disease\\\\\n",
       " <dbl> & <dbl> & <dbl> & <dbl> & <dbl> & <fct>\\\\\n",
       "\\hline\n",
       "\t 2 & 130 & 132 & 2 & 185 & 0\\\\\n",
       "\t 2 & 120 & 243 & 0 & 160 & 0\\\\\n",
       "\t 1 & 170 & 237 & 1 & 170 & 0\\\\\n",
       "\t ⋮ & ⋮ & ⋮ & ⋮ & ⋮ & ⋮\\\\\n",
       "\t 4 & 160 & 331 & 0 &  94 & 1\\\\\n",
       "\t 3 & 130 & 294 & 1 & 100 & 1\\\\\n",
       "\t 4 & 130 & 275 & 1 & 115 & 1\\\\\n",
       "\\end{tabular}\n"
      ],
      "text/markdown": [
       "\n",
       "A tibble: 201 × 6\n",
       "\n",
       "| chest_pain &lt;dbl&gt; | resting_bp &lt;dbl&gt; | cholesterol &lt;dbl&gt; | restingecg &lt;dbl&gt; | max_heart_rate &lt;dbl&gt; | disease &lt;fct&gt; |\n",
       "|---|---|---|---|---|---|\n",
       "| 2 | 130 | 132 | 2 | 185 | 0 |\n",
       "| 2 | 120 | 243 | 0 | 160 | 0 |\n",
       "| 1 | 170 | 237 | 1 | 170 | 0 |\n",
       "| ⋮ | ⋮ | ⋮ | ⋮ | ⋮ | ⋮ |\n",
       "| 4 | 160 | 331 | 0 |  94 | 1 |\n",
       "| 3 | 130 | 294 | 1 | 100 | 1 |\n",
       "| 4 | 130 | 275 | 1 | 115 | 1 |\n",
       "\n"
      ],
      "text/plain": [
       "    chest_pain resting_bp cholesterol restingecg max_heart_rate disease\n",
       "1   2          130        132         2          185            0      \n",
       "2   2          120        243         0          160            0      \n",
       "3   1          170        237         1          170            0      \n",
       "⋮   ⋮          ⋮          ⋮           ⋮          ⋮              ⋮      \n",
       "199 4          160        331         0           94            1      \n",
       "200 3          130        294         1          100            1      \n",
       "201 4          130        275         1          115            1      "
      ]
     },
     "metadata": {},
     "output_type": "display_data"
    }
   ],
   "source": [
    "heart_split <- initial_split(heart_data_tidy, prop = .75, strata = disease)  \n",
    "heart_train <- training(heart_split)   \n",
    "heart_test <- testing(heart_split)\n",
    "heart_train"
   ]
  },
  {
   "cell_type": "code",
   "execution_count": 5,
   "id": "dc6d8187-3df6-4334-911b-c5bd8d7493af",
   "metadata": {},
   "outputs": [
    {
     "data": {
      "text/html": [
       "<table class=\"dataframe\">\n",
       "<caption>A tibble: 1 × 6</caption>\n",
       "<thead>\n",
       "\t<tr><th scope=col>chest_pain</th><th scope=col>resting_bp</th><th scope=col>cholesterol</th><th scope=col>restingecg</th><th scope=col>max_heart_rate</th><th scope=col>disease</th></tr>\n",
       "\t<tr><th scope=col>&lt;int&gt;</th><th scope=col>&lt;int&gt;</th><th scope=col>&lt;int&gt;</th><th scope=col>&lt;int&gt;</th><th scope=col>&lt;int&gt;</th><th scope=col>&lt;int&gt;</th></tr>\n",
       "</thead>\n",
       "<tbody>\n",
       "\t<tr><td>0</td><td>0</td><td>0</td><td>0</td><td>0</td><td>0</td></tr>\n",
       "</tbody>\n",
       "</table>\n"
      ],
      "text/latex": [
       "A tibble: 1 × 6\n",
       "\\begin{tabular}{llllll}\n",
       " chest\\_pain & resting\\_bp & cholesterol & restingecg & max\\_heart\\_rate & disease\\\\\n",
       " <int> & <int> & <int> & <int> & <int> & <int>\\\\\n",
       "\\hline\n",
       "\t 0 & 0 & 0 & 0 & 0 & 0\\\\\n",
       "\\end{tabular}\n"
      ],
      "text/markdown": [
       "\n",
       "A tibble: 1 × 6\n",
       "\n",
       "| chest_pain &lt;int&gt; | resting_bp &lt;int&gt; | cholesterol &lt;int&gt; | restingecg &lt;int&gt; | max_heart_rate &lt;int&gt; | disease &lt;int&gt; |\n",
       "|---|---|---|---|---|---|\n",
       "| 0 | 0 | 0 | 0 | 0 | 0 |\n",
       "\n"
      ],
      "text/plain": [
       "  chest_pain resting_bp cholesterol restingecg max_heart_rate disease\n",
       "1 0          0          0           0          0              0      "
      ]
     },
     "metadata": {},
     "output_type": "display_data"
    },
    {
     "data": {
      "text/html": [
       "<table class=\"dataframe\">\n",
       "<caption>A tibble: 1 × 5</caption>\n",
       "<thead>\n",
       "\t<tr><th scope=col>n_cp</th><th scope=col>n_rbp</th><th scope=col>n_cholesterol</th><th scope=col>n_max_heart_rate</th><th scope=col>n_disease</th></tr>\n",
       "\t<tr><th scope=col>&lt;int&gt;</th><th scope=col>&lt;int&gt;</th><th scope=col>&lt;int&gt;</th><th scope=col>&lt;int&gt;</th><th scope=col>&lt;int&gt;</th></tr>\n",
       "</thead>\n",
       "<tbody>\n",
       "\t<tr><td>201</td><td>201</td><td>201</td><td>201</td><td>201</td></tr>\n",
       "</tbody>\n",
       "</table>\n"
      ],
      "text/latex": [
       "A tibble: 1 × 5\n",
       "\\begin{tabular}{lllll}\n",
       " n\\_cp & n\\_rbp & n\\_cholesterol & n\\_max\\_heart\\_rate & n\\_disease\\\\\n",
       " <int> & <int> & <int> & <int> & <int>\\\\\n",
       "\\hline\n",
       "\t 201 & 201 & 201 & 201 & 201\\\\\n",
       "\\end{tabular}\n"
      ],
      "text/markdown": [
       "\n",
       "A tibble: 1 × 5\n",
       "\n",
       "| n_cp &lt;int&gt; | n_rbp &lt;int&gt; | n_cholesterol &lt;int&gt; | n_max_heart_rate &lt;int&gt; | n_disease &lt;int&gt; |\n",
       "|---|---|---|---|---|\n",
       "| 201 | 201 | 201 | 201 | 201 |\n",
       "\n"
      ],
      "text/plain": [
       "  n_cp n_rbp n_cholesterol n_max_heart_rate n_disease\n",
       "1 201  201   201           201              201      "
      ]
     },
     "metadata": {},
     "output_type": "display_data"
    },
    {
     "data": {
      "text/html": [
       "<table class=\"dataframe\">\n",
       "<caption>A tibble: 1 × 3</caption>\n",
       "<thead>\n",
       "\t<tr><th scope=col>resting_bp</th><th scope=col>cholesterol</th><th scope=col>max_heart_rate</th></tr>\n",
       "\t<tr><th scope=col>&lt;dbl&gt;</th><th scope=col>&lt;dbl&gt;</th><th scope=col>&lt;dbl&gt;</th></tr>\n",
       "</thead>\n",
       "<tbody>\n",
       "\t<tr><td>133.1592</td><td>246.1542</td><td>137.3632</td></tr>\n",
       "</tbody>\n",
       "</table>\n"
      ],
      "text/latex": [
       "A tibble: 1 × 3\n",
       "\\begin{tabular}{lll}\n",
       " resting\\_bp & cholesterol & max\\_heart\\_rate\\\\\n",
       " <dbl> & <dbl> & <dbl>\\\\\n",
       "\\hline\n",
       "\t 133.1592 & 246.1542 & 137.3632\\\\\n",
       "\\end{tabular}\n"
      ],
      "text/markdown": [
       "\n",
       "A tibble: 1 × 3\n",
       "\n",
       "| resting_bp &lt;dbl&gt; | cholesterol &lt;dbl&gt; | max_heart_rate &lt;dbl&gt; |\n",
       "|---|---|---|\n",
       "| 133.1592 | 246.1542 | 137.3632 |\n",
       "\n"
      ],
      "text/plain": [
       "  resting_bp cholesterol max_heart_rate\n",
       "1 133.1592   246.1542    137.3632      "
      ]
     },
     "metadata": {},
     "output_type": "display_data"
    },
    {
     "data": {
      "text/html": [
       "<table class=\"dataframe\">\n",
       "<caption>A tibble: 2 × 2</caption>\n",
       "<thead>\n",
       "\t<tr><th scope=col>disease</th><th scope=col>n</th></tr>\n",
       "\t<tr><th scope=col>&lt;fct&gt;</th><th scope=col>&lt;int&gt;</th></tr>\n",
       "</thead>\n",
       "<tbody>\n",
       "\t<tr><td>0</td><td>126</td></tr>\n",
       "\t<tr><td>1</td><td> 75</td></tr>\n",
       "</tbody>\n",
       "</table>\n"
      ],
      "text/latex": [
       "A tibble: 2 × 2\n",
       "\\begin{tabular}{ll}\n",
       " disease & n\\\\\n",
       " <fct> & <int>\\\\\n",
       "\\hline\n",
       "\t 0 & 126\\\\\n",
       "\t 1 &  75\\\\\n",
       "\\end{tabular}\n"
      ],
      "text/markdown": [
       "\n",
       "A tibble: 2 × 2\n",
       "\n",
       "| disease &lt;fct&gt; | n &lt;int&gt; |\n",
       "|---|---|\n",
       "| 0 | 126 |\n",
       "| 1 |  75 |\n",
       "\n"
      ],
      "text/plain": [
       "  disease n  \n",
       "1 0       126\n",
       "2 1        75"
      ]
     },
     "metadata": {},
     "output_type": "display_data"
    }
   ],
   "source": [
    "#Preliminary exploratory data analysis; missing values were ommited so there are zero rows with missing values\n",
    "#Finding mean of all numerical predictors\n",
    "heart_data_miss_num <- heart_train |>\n",
    "                       map_df(is.na) |>\n",
    "                       map_df(sum)\n",
    "heart_data_miss_num\n",
    "\n",
    "heart_data_obs_num <- heart_train |>\n",
    "                      summarize(n_cp=n(),n_rbp=n(),n_cholesterol=n(),n_max_heart_rate=n(),n_disease=n())\n",
    "heart_data_obs_num\n",
    "\n",
    "heart_data_mean <- heart_train |>\n",
    "    select(resting_bp, cholesterol, max_heart_rate) |>\n",
    "    map_dfr(mean)\n",
    "heart_data_mean\n",
    "\n",
    "#Finding number of observations for each class\n",
    "heart_num_class <- heart_train |>\n",
    "    group_by(disease) |>\n",
    "    summarize(n=n())\n",
    "heart_num_class"
   ]
  },
  {
   "cell_type": "code",
   "execution_count": 12,
   "id": "f891793c-e7ef-47c0-9cd5-6581a234f57e",
   "metadata": {},
   "outputs": [
    {
     "data": {
      "image/png": "[encoded data removed]",
      "text/plain": [
       "plot without title"
      ]
     },
     "metadata": {
      "image/png": {
       "height": 300,
       "width": 1500
      }
     },
     "output_type": "display_data"
    }
   ],
   "source": [
    "#Preliminary exploratory data analysis; visualization of predictor distribution\n",
    "options(repr.plot.height = 5, repr.plot.width = 25)\n",
    "chest_pain_plot <- ggplot(heart_train , \n",
    "                   aes(x = chest_pain, fill = disease)) +\n",
    "                   geom_bar(position= \"dodge\") +\n",
    "                   labs(x = \"Chest pain type\", y = \"Count\",  fill = \"Disease\") +\n",
    "                   ggtitle(\"Chest Pain Type\") +\n",
    "                   theme(text = element_text(size = 14))\n",
    "restingbp_plot <- ggplot(heart_train , \n",
    "                   aes(x = resting_bp, fill = disease)) +\n",
    "                   geom_histogram(position= \"dodge\", bins=30) +\n",
    "                   labs(x = \"Resting Blood Pressure\", y = \"Count\",  fill = \"Disease\") +\n",
    "                   ggtitle(\"Resting Blood Pressure\") +\n",
    "                   theme(text = element_text(size = 14))\n",
    "chol_plot <- ggplot(heart_train , \n",
    "                   aes(x = cholesterol, fill = disease)) +\n",
    "                   geom_histogram(position= \"dodge\", bins=30) +\n",
    "                   labs(x = \"Cholesterol (mg/dL)\", y = \"Count\",  fill = \"Disease\") +\n",
    "                   ggtitle(\"Cholesterol\") +\n",
    "                   theme(text = element_text(size = 14))\n",
    "restingecg_plot <- ggplot(heart_train , \n",
    "                   aes(x = restingecg, fill = disease)) +\n",
    "                   geom_bar(position= \"dodge\") +\n",
    "                   labs(x = \"Resting electrocardiographic results\", y = \"Count\",  fill = \"Disease\") +\n",
    "                   ggtitle(\"Resting ecg\") +\n",
    "                   theme(text = element_text(size = 14))\n",
    "max_heart_rate_plot <- ggplot(heart_train , \n",
    "                   aes(x = max_heart_rate, fill = disease)) +\n",
    "                   geom_histogram(position= \"dodge\", bins=30) +\n",
    "                   labs(x = \"Max heart rate\", y = \"Count\",  fill = \"Disease\") +\n",
    "                   ggtitle(\"Max heart rate\") +\n",
    "                   theme(text = element_text(size = 14))\n",
    "grid.arrange(chest_pain_plot, restingbp_plot, chol_plot, restingecg_plot, max_heart_rate_plot ,nrow=1)"
   ]
  },
  {
   "cell_type": "markdown",
   "id": "ee14e0a7-289a-4de8-99f5-35fbfe0c5ccf",
   "metadata": {
    "tags": []
   },
   "source": [
    "As we conduct our data analysis, we will use the k-nearest neighbours method with the five predictors mentioned in the above section. The value of k will not be chosen arbitrarily, rather, we will tune our classifier using cross-validation to ensure the most accurate value for k is used. The five predictors we are using were chosen based on research into the primary causes for heart disease. Two are categorical, and three are numerical. All predictors will be standardized.\\\n",
    "\\\n",
    "As part of the visualization of our results, we will include a visualization of the confusion matrix for the classifier. This will demonstrate the proportion of errors that our classifier makes.\n",
    "\n",
    "\n",
    "\n"
   ]
  },
  {
   "cell_type": "markdown",
   "id": "7482f379-5225-4541-aefb-6cc33b063b89",
   "metadata": {},
   "source": [
    "Expected outcomes and significance:\n",
    "\n",
    "\n",
    "What we expect to find:\n",
    "We want to find out which predictors have the highest accuracy to determine whether a person has heart disease or not. Is this classifier reliable and can we apply it in practice?\n",
    "\n",
    "Impact our findings could have:\n",
    "If we get a classifier that is very accurate and can be used in practice, then our classifier can be used in hospitals to help doctors determine more accurately whether a patient has heart disease and to reduce their workload (by relying on the classifier for simple judgments).\\\n",
    "\n",
    "\n",
    "Future Questions:\n",
    "Are there other tests that could be performed to create a more accurate screening? \n",
    "Could our screening be simplified even more such that a patient could be evaluated before being brought to the hospital?\n",
    "How effective would this screening be applied to different groups of people (outside the Hungarian dataset we analyzed)? \n"
   ]
  },
  {
   "cell_type": "code",
   "execution_count": null,
   "id": "5e697ba4-82c7-4dad-8a34-29609662acfe",
   "metadata": {},
   "outputs": [],
   "source": []
  }
 ],
 "metadata": {
  "kernelspec": {
   "display_name": "R",
   "language": "R",
   "name": "ir"
  },
  "language_info": {
   "codemirror_mode": "r",
   "file_extension": ".r",
   "mimetype": "text/x-r-source",
   "name": "R",
   "pygments_lexer": "r",
   "version": "4.1.3"
  }
 },
 "nbformat": 4,
 "nbformat_minor": 5
}
