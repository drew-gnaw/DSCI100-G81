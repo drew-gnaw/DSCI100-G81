{
 "cells": [
  {
   "cell_type": "code",
   "execution_count": 2,
   "id": "1d0101ab-6c79-49ea-b363-575cf97c333d",
   "metadata": {},
   "outputs": [
    {
     "name": "stdout",
     "output_type": "stream",
     "text": [
      "[1] \"hi\"\n"
     ]
    }
   ],
   "source": [
    "print('hi')"
   ]
  },
  {
   "cell_type": "code",
   "execution_count": 4,
   "id": "abba0727-b99a-4082-973d-b142c6ac1337",
   "metadata": {},
   "outputs": [
    {
     "name": "stdout",
     "output_type": "stream",
     "text": [
      "[1] \"trial\"\n"
     ]
    }
   ],
   "source": [
    "print('trial')"
   ]
  },
  {
   "cell_type": "code",
   "execution_count": null,
   "id": "7cd03fcf-ec68-4a7c-9c6f-775d0eaa435e",
   "metadata": {},
   "outputs": [],
   "source": []
  },
  {
   "cell_type": "code",
   "execution_count": 5,
   "id": "c7e8cc9f-190c-49e3-9b86-565e541b9148",
   "metadata": {},
   "outputs": [
    {
     "ename": "ERROR",
     "evalue": "Error in read_csv2(\"https://archive.ics.uci.edu/ml/machine-learning-databases/heart-disease/heart-disease.names\"): could not find function \"read_csv2\"\n",
     "output_type": "error",
     "traceback": [
      "Error in read_csv2(\"https://archive.ics.uci.edu/ml/machine-learning-databases/heart-disease/heart-disease.names\"): could not find function \"read_csv2\"\nTraceback:\n"
     ]
    }
   ],
   "source": [
    "read_data <- read_csv2(\"https://archive.ics.uci.edu/ml/machine-learning-databases/heart-disease/heart-disease.names\")\n",
    "read_data\n",
    "                       "
   ]
  },
  {
   "cell_type": "code",
   "execution_count": null,
   "id": "f1915984-ac6f-4f4a-9d88-e75ffd9aa334",
   "metadata": {},
   "outputs": [],
   "source": []
  }
 ],
 "metadata": {
  "kernelspec": {
   "display_name": "R",
   "language": "R",
   "name": "ir"
  },
  "language_info": {
   "codemirror_mode": "r",
   "file_extension": ".r",
   "mimetype": "text/x-r-source",
   "name": "R",
   "pygments_lexer": "r",
   "version": "4.1.3"
  }
 },
 "nbformat": 4,
 "nbformat_minor": 5
}
