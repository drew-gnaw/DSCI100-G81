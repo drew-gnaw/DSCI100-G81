{
 "cells": [
  {
   "cell_type": "code",
   "execution_count": 2,
   "id": "1d0101ab-6c79-49ea-b363-575cf97c333d",
   "metadata": {},
   "outputs": [
    {
     "name": "stdout",
     "output_type": "stream",
     "text": [
      "[1] \"hi\"\n"
     ]
    }
   ],
   "source": [
    "print('hi')"
   ]
  },
  {
   "cell_type": "code",
   "execution_count": 4,
   "id": "abba0727-b99a-4082-973d-b142c6ac1337",
   "metadata": {},
   "outputs": [
    {
     "name": "stdout",
     "output_type": "stream",
     "text": [
      "[1] \"trial\"\n"
     ]
    }
   ],
   "source": [
    "print('trial')"
   ]
  },
  {
   "cell_type": "code",
   "execution_count": null,
   "id": "c7e8cc9f-190c-49e3-9b86-565e541b9148",
   "metadata": {},
   "outputs": [],
   "source": []
  }
 ],
 "metadata": {
  "kernelspec": {
   "display_name": "R",
   "language": "R",
   "name": "ir"
  },
  "language_info": {
   "codemirror_mode": "r",
   "file_extension": ".r",
   "mimetype": "text/x-r-source",
   "name": "R",
   "pygments_lexer": "r",
   "version": "4.1.3"
  }
 },
 "nbformat": 4,
 "nbformat_minor": 5
}
