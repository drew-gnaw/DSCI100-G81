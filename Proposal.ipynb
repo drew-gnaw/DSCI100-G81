{
 "cells": [
  {
   "cell_type": "markdown",
   "id": "94ac7718-f001-4999-8185-9ceed56d3403",
   "metadata": {},
   "source": [
    "In this project, we are looking at Coronary artery disease, which is a common heart disease where the major blood vessels are clogged or narrowed. Due to the blockage, it is difficult to transfer oxygen, blood and nutrients to the heart. Usually, this disease can be attributed to cholesterol deposits, so the level of cholesterol in potential victims is of interest to us. In this project, we would like to determine whether a fictional person would be at risk of heart "
   ]
  },
  {
   "cell_type": "markdown",
   "id": "04d32ce4-e245-41db-a2c2-474c60ac0c69",
   "metadata": {},
   "source": [
    "The dataset we chose was the one about heart disease. The database for heart disease contains 76 attributes (variables), but the dataset we are using includes only 14 of them. In our project, we will focus on determining the presence or absence of heart disease, so the data in the disease column has only two categories, 0 (no heart disease) and 1 (with heart disease). Also, this database has four regional datasets, and we finally chose the Hungarian regional. "
   ]
  },
  {
   "cell_type": "code",
   "execution_count": 13,
   "id": "d5a392ac-9a9d-4e47-9186-1a84a2b5d3c2",
   "metadata": {},
   "outputs": [],
   "source": [
    "library(tidyverse)\n",
    "library(repr)\n",
    "options(repr.matrix.max.rows = 6)"
   ]
  },
  {
   "cell_type": "code",
   "execution_count": 14,
   "id": "c6e73ae2-35f2-4964-8a43-41f1206f8805",
   "metadata": {},
   "outputs": [
    {
     "name": "stderr",
     "output_type": "stream",
     "text": [
      "\u001b[1mRows: \u001b[22m\u001b[34m294\u001b[39m \u001b[1mColumns: \u001b[22m\u001b[34m14\u001b[39m\n",
      "\u001b[36m──\u001b[39m \u001b[1mColumn specification\u001b[22m \u001b[36m────────────────────────────────────────────────────────\u001b[39m\n",
      "\u001b[1mDelimiter:\u001b[22m \",\"\n",
      "\u001b[31mchr\u001b[39m (9): X4, X5, X6, X7, X8, X9, X11, X12, X13\n",
      "\u001b[32mdbl\u001b[39m (5): X1, X2, X3, X10, X14\n",
      "\n",
      "\u001b[36mℹ\u001b[39m Use `spec()` to retrieve the full column specification for this data.\n",
      "\u001b[36mℹ\u001b[39m Specify the column types or set `show_col_types = FALSE` to quiet this message.\n"
     ]
    }
   ],
   "source": [
    "#First step is to read the data and label the column names. \n",
    "heart_data <- read_delim(\"https://archive.ics.uci.edu/ml/machine-learning-databases/heart-disease/processed.hungarian.data\",col_name = FALSE)\n",
    "colnames(heart_data) <- c(\"age\", \"sex\", \"chest_pain\", \"resting_bp\", \"cholesterol\", \"fbs>120mg/dL\", \"restingecg\", \"max_heart_rate\", \"exercise_induced_angina\", \"oldpeak\", \"slope\", \"ca\", \"thal\", \"disease\")"
   ]
  },
  {
   "cell_type": "code",
   "execution_count": 15,
   "id": "cd3cde69-7c15-4db3-96b5-74bae31b5fac",
   "metadata": {},
   "outputs": [],
   "source": [
    "#Here we are tidying the data by filtering out columns with \"?\" and selecting which columns we want. \n",
    "heart_data_tidy <- heart_data |> select(chest_pain, resting_bp, cholesterol, restingecg, max_heart_rate, disease) |>\n",
    "                   filter(chest_pain!= \"?\", resting_bp!= \"?\", cholesterol!= \"?\", restingecg!= \"?\", max_heart_rate!= \"?\", disease!= \"?\") |>\n",
    "                   mutate(chest_pain = as_factor(chest_pain), \n",
    "                          resting_bp = as.numeric(resting_bp),\n",
    "                          cholesterol = as.numeric(cholesterol),\n",
    "                          restingecg = as_factor(restingecg),\n",
    "                          max_heart_rate = as.numeric(max_heart_rate),\n",
    "                          disease = as_factor(disease))"
   ]
  },
  {
   "cell_type": "code",
   "execution_count": 16,
   "id": "bfc93744-8dca-4ecb-b43e-eabd7a376a9c",
   "metadata": {},
   "outputs": [
    {
     "data": {
      "text/html": [
       "<table class=\"dataframe\">\n",
       "<caption>A tibble: 201 × 6</caption>\n",
       "<thead>\n",
       "\t<tr><th scope=col>chest_pain</th><th scope=col>resting_bp</th><th scope=col>cholesterol</th><th scope=col>restingecg</th><th scope=col>max_heart_rate</th><th scope=col>disease</th></tr>\n",
       "\t<tr><th scope=col>&lt;fct&gt;</th><th scope=col>&lt;dbl&gt;</th><th scope=col>&lt;dbl&gt;</th><th scope=col>&lt;fct&gt;</th><th scope=col>&lt;dbl&gt;</th><th scope=col>&lt;fct&gt;</th></tr>\n",
       "</thead>\n",
       "<tbody>\n",
       "\t<tr><td>2</td><td>130</td><td>132</td><td>2</td><td>185</td><td>0</td></tr>\n",
       "\t<tr><td>2</td><td>120</td><td>243</td><td>0</td><td>160</td><td>0</td></tr>\n",
       "\t<tr><td>1</td><td>170</td><td>237</td><td>1</td><td>170</td><td>0</td></tr>\n",
       "\t<tr><td>⋮</td><td>⋮</td><td>⋮</td><td>⋮</td><td>⋮</td><td>⋮</td></tr>\n",
       "\t<tr><td>3</td><td>130</td><td>294</td><td>1</td><td>100</td><td>1</td></tr>\n",
       "\t<tr><td>4</td><td>155</td><td>342</td><td>0</td><td>150</td><td>1</td></tr>\n",
       "\t<tr><td>4</td><td>130</td><td>275</td><td>1</td><td>115</td><td>1</td></tr>\n",
       "</tbody>\n",
       "</table>\n"
      ],
      "text/latex": [
       "A tibble: 201 × 6\n",
       "\\begin{tabular}{llllll}\n",
       " chest\\_pain & resting\\_bp & cholesterol & restingecg & max\\_heart\\_rate & disease\\\\\n",
       " <fct> & <dbl> & <dbl> & <fct> & <dbl> & <fct>\\\\\n",
       "\\hline\n",
       "\t 2 & 130 & 132 & 2 & 185 & 0\\\\\n",
       "\t 2 & 120 & 243 & 0 & 160 & 0\\\\\n",
       "\t 1 & 170 & 237 & 1 & 170 & 0\\\\\n",
       "\t ⋮ & ⋮ & ⋮ & ⋮ & ⋮ & ⋮\\\\\n",
       "\t 3 & 130 & 294 & 1 & 100 & 1\\\\\n",
       "\t 4 & 155 & 342 & 0 & 150 & 1\\\\\n",
       "\t 4 & 130 & 275 & 1 & 115 & 1\\\\\n",
       "\\end{tabular}\n"
      ],
      "text/markdown": [
       "\n",
       "A tibble: 201 × 6\n",
       "\n",
       "| chest_pain &lt;fct&gt; | resting_bp &lt;dbl&gt; | cholesterol &lt;dbl&gt; | restingecg &lt;fct&gt; | max_heart_rate &lt;dbl&gt; | disease &lt;fct&gt; |\n",
       "|---|---|---|---|---|---|\n",
       "| 2 | 130 | 132 | 2 | 185 | 0 |\n",
       "| 2 | 120 | 243 | 0 | 160 | 0 |\n",
       "| 1 | 170 | 237 | 1 | 170 | 0 |\n",
       "| ⋮ | ⋮ | ⋮ | ⋮ | ⋮ | ⋮ |\n",
       "| 3 | 130 | 294 | 1 | 100 | 1 |\n",
       "| 4 | 155 | 342 | 0 | 150 | 1 |\n",
       "| 4 | 130 | 275 | 1 | 115 | 1 |\n",
       "\n"
      ],
      "text/plain": [
       "    chest_pain resting_bp cholesterol restingecg max_heart_rate disease\n",
       "1   2          130        132         2          185            0      \n",
       "2   2          120        243         0          160            0      \n",
       "3   1          170        237         1          170            0      \n",
       "⋮   ⋮          ⋮          ⋮           ⋮          ⋮              ⋮      \n",
       "199 3          130        294         1          100            1      \n",
       "200 4          155        342         0          150            1      \n",
       "201 4          130        275         1          115            1      "
      ]
     },
     "metadata": {},
     "output_type": "display_data"
    }
   ],
   "source": [
    "heart_split <- initial_split(heart_data_tidy, prop = .75, strata = disease)  \n",
    "heart_train <- training(heart_split)   \n",
    "heart_test <- testing(heart_split)\n",
    "heart_train"
   ]
  },
  {
   "cell_type": "code",
   "execution_count": null,
   "id": "f891793c-e7ef-47c0-9cd5-6581a234f57e",
   "metadata": {},
   "outputs": [],
   "source": []
  }
 ],
 "metadata": {
  "kernelspec": {
   "display_name": "R",
   "language": "R",
   "name": "ir"
  },
  "language_info": {
   "codemirror_mode": "r",
   "file_extension": ".r",
   "mimetype": "text/x-r-source",
   "name": "R",
   "pygments_lexer": "r",
   "version": "4.1.3"
  }
 },
 "nbformat": 4,
 "nbformat_minor": 5
}
